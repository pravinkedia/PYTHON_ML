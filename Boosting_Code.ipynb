{
  "nbformat": 4,
  "nbformat_minor": 0,
  "metadata": {
    "colab": {
      "name": "Boosting_Code.ipynb",
      "provenance": [],
      "collapsed_sections": [],
      "machine_shape": "hm",
      "include_colab_link": true
    },
    "kernelspec": {
      "name": "python3",
      "display_name": "Python 3"
    },
    "accelerator": "GPU"
  },
  "cells": [
    {
      "cell_type": "markdown",
      "metadata": {
        "id": "view-in-github",
        "colab_type": "text"
      },
      "source": [
        "<a href=\"https://colab.research.google.com/github/pravinkedia/PYTHON_ML/blob/main/Boosting_Code.ipynb\" target=\"_parent\"><img src=\"https://colab.research.google.com/assets/colab-badge.svg\" alt=\"Open In Colab\"/></a>"
      ]
    },
    {
      "cell_type": "markdown",
      "metadata": {
        "id": "uPq4rP4eDoQh"
      },
      "source": [
        "[statinfer.com](https://statinfer.com/)"
      ]
    },
    {
      "cell_type": "markdown",
      "metadata": {
        "id": "5Wtphu1LLyVa"
      },
      "source": [
        "# Packages"
      ]
    },
    {
      "cell_type": "code",
      "metadata": {
        "id": "6zgPKfcWFH1L"
      },
      "source": [
        "import pandas as pd\n",
        "import sklearn as sk\n",
        "import numpy as np\n",
        "import scipy as sp\n",
        "from sklearn import tree\n",
        "from sklearn.metrics import confusion_matrix\n",
        "from sklearn.metrics import f1_score\n",
        "import time\n",
        "from sklearn.ensemble import GradientBoostingClassifier\n",
        "import xgboost\n",
        "from xgboost.sklearn import XGBClassifier\n",
        "from sklearn import preprocessing"
      ],
      "execution_count": null,
      "outputs": []
    },
    {
      "cell_type": "markdown",
      "metadata": {
        "id": "8qLTl5tyD5dc"
      },
      "source": [
        "# Data Importing"
      ]
    },
    {
      "cell_type": "markdown",
      "metadata": {
        "id": "nyO2R9lAEblx"
      },
      "source": [
        "Dataset Background : https://www.kaggle.com/c/otto-group-product-classification-challenge/notebooks"
      ]
    },
    {
      "cell_type": "code",
      "metadata": {
        "id": "RjM68PQ8DkLB"
      },
      "source": [
        "ecom_prod_train=pd.read_csv(\"https://raw.githubusercontent.com/venkatareddykonasani/Datasets/master/Ecom_Products_Menu/train.csv\")\n",
        "ecom_prod_test=pd.read_csv(\"https://raw.githubusercontent.com/venkatareddykonasani/Datasets/master/Ecom_Products_Menu/test.csv\")"
      ],
      "execution_count": null,
      "outputs": []
    },
    {
      "cell_type": "code",
      "metadata": {
        "id": "E1jc0eX_FA8Q"
      },
      "source": [
        "print(ecom_prod_train.sample(10))\n",
        "print(ecom_prod_test.sample(10))"
      ],
      "execution_count": null,
      "outputs": []
    },
    {
      "cell_type": "code",
      "metadata": {
        "id": "Wj2NV6efGTcC"
      },
      "source": [
        "#Frequency counts of the products\n",
        "ecom_prod_train['Category'].value_counts()"
      ],
      "execution_count": null,
      "outputs": []
    },
    {
      "cell_type": "markdown",
      "metadata": {
        "id": "0SW5fKjLGCfo"
      },
      "source": [
        "# Prepare Features, Train and Test data"
      ]
    },
    {
      "cell_type": "code",
      "metadata": {
        "id": "A-V7YGhrFqfZ"
      },
      "source": [
        "features=list(ecom_prod_train.columns[1:101])\n",
        "print(\"features \\n\", features)\n",
        "X_train=ecom_prod_train[features]\n",
        "y_train=ecom_prod_train['Category']\n",
        "\n",
        "X_test=ecom_prod_test[features]\n",
        "y_test=ecom_prod_test['Category']"
      ],
      "execution_count": null,
      "outputs": []
    },
    {
      "cell_type": "markdown",
      "metadata": {
        "id": "12BIlI7gHctK"
      },
      "source": [
        "# Decision Tree model"
      ]
    },
    {
      "cell_type": "code",
      "metadata": {
        "id": "9pjj7RppGKqr"
      },
      "source": [
        "###buildng Decision tree on the training data ####\n",
        "from sklearn import tree\n",
        "tree = tree.DecisionTreeClassifier(max_depth=9)\n",
        "tree.fit(X_train,y_train)"
      ],
      "execution_count": null,
      "outputs": []
    },
    {
      "cell_type": "markdown",
      "metadata": {
        "id": "YSOShFnhXyfO"
      },
      "source": [
        "## Decision Tree Results"
      ]
    },
    {
      "cell_type": "code",
      "metadata": {
        "id": "Sj-71axBXxab"
      },
      "source": [
        "#Accuracy on train data\n",
        "print(\"Decision Tree Results \\n\")\n",
        "print(\"Accuracy on train data\" , tree.score(X_train, y_train))\n",
        "print(\"Accuracy on test data\" , tree.score(X_test, y_test))"
      ],
      "execution_count": null,
      "outputs": []
    },
    {
      "cell_type": "markdown",
      "metadata": {
        "id": "aD6wVUHSHevX"
      },
      "source": [
        "# Boosted Model"
      ]
    },
    {
      "cell_type": "code",
      "metadata": {
        "id": "CFdhv8k2GjsG"
      },
      "source": [
        "from sklearn.ensemble import GradientBoostingClassifier\n",
        "boost=GradientBoostingClassifier(n_estimators=100,verbose=1) #Number of iterations try n_estimators=[20,100,200]\n",
        "##fitting the gradient boost classifier\n",
        "start_time = time.time()\n",
        "boost.fit(X_train,y_train)\n",
        "print(\"Time taken by GBM \"+ str((time.time() - start_time))+ \" Seconds\")"
      ],
      "execution_count": null,
      "outputs": []
    },
    {
      "cell_type": "markdown",
      "metadata": {
        "id": "UFzjaDCFTOO-"
      },
      "source": [
        "## GBM Results"
      ]
    },
    {
      "cell_type": "code",
      "metadata": {
        "id": "_IdqKxgwHp0w"
      },
      "source": [
        "###predicting Gradient boosting model on the train Data\n",
        "boost_predict_train=boost.predict(X_train)\n",
        "cm1 = confusion_matrix(y_train,boost_predict_train)\n",
        "print(cm1)\n",
        "\n",
        "accuracy_train=f1_score(y_train, boost_predict_train, average='micro') \n",
        "print(\"train accuracy\", accuracy_train)"
      ],
      "execution_count": null,
      "outputs": []
    },
    {
      "cell_type": "code",
      "metadata": {
        "id": "rnNZq0TbHwiA"
      },
      "source": [
        "###predicting Gradient boosting model on the test Data\n",
        "boost_predict_test=boost.predict(X_test)\n",
        "cm1 = confusion_matrix(y_test,boost_predict_test)\n",
        "print(cm1)\n",
        "\n",
        "accuracy_test=f1_score(y_test, boost_predict_test, average='micro') \n",
        "print(\"test accuracy\", accuracy_test)"
      ],
      "execution_count": null,
      "outputs": []
    },
    {
      "cell_type": "markdown",
      "metadata": {
        "id": "ZyjFgaA8KE7D"
      },
      "source": [
        "# XGB Model"
      ]
    },
    {
      "cell_type": "code",
      "metadata": {
        "id": "1Fgvgn-sNeOf"
      },
      "source": [
        "#Creating XGB Friendly data and matrices\n",
        "train_labels = y_train.values\n",
        "train_labels = preprocessing.LabelEncoder().fit_transform(train_labels)\n",
        "test_labels = y_test.values\n",
        "test_labels = preprocessing.LabelEncoder().fit_transform(test_labels)\n",
        "\n",
        "matrix_train = xgboost.DMatrix(X_train,label=train_labels)\n",
        "matrix_test = xgboost.DMatrix(X_test,label=test_labels)"
      ],
      "execution_count": null,
      "outputs": []
    },
    {
      "cell_type": "code",
      "metadata": {
        "id": "zMgbSHJwLwHD"
      },
      "source": [
        "params = {\n",
        "    'max_depth': 8, \n",
        "    'eta':0.02, #Learning Rate\n",
        "    'eval_metric':'merror', # Multiclass classification error rate. \n",
        "    'tree_method' : \"gpu_hist\", # use this with colab in gpu mode for faster training\n",
        "    'num_class': 9\n",
        "}\n",
        "\n",
        "start_time = time.time()\n",
        "\n",
        "model=xgboost.train(params=params,\n",
        "                    dtrain=matrix_train,\n",
        "                    num_boost_round=300,    #Number of trees\n",
        "                    early_stopping_rounds=3, # Stop after 5 rounds, if test error doesn't improve. \n",
        "                    evals=[(matrix_test,'test')] \n",
        "                   )\n",
        "\n",
        "print(\"Time taken by XGB \"+ str((time.time() - start_time))+ \" Seconds\")"
      ],
      "execution_count": null,
      "outputs": []
    },
    {
      "cell_type": "markdown",
      "metadata": {
        "id": "4MqFhLeiTRR8"
      },
      "source": [
        "## XGB Results"
      ]
    },
    {
      "cell_type": "code",
      "metadata": {
        "id": "ZMFjJ82YMw5n"
      },
      "source": [
        "###prediction using XGB on the train Data\n",
        "boost_predict_train=model.predict(matrix_train)\n",
        "cm1 = confusion_matrix(train_labels,boost_predict_train)\n",
        "print(cm1)\n",
        "\n",
        "accuracy_train=f1_score(train_labels, boost_predict_train, average='micro') \n",
        "print(\"train accuracy\", accuracy_train)"
      ],
      "execution_count": null,
      "outputs": []
    },
    {
      "cell_type": "code",
      "metadata": {
        "id": "C4lt5xN8UHIZ"
      },
      "source": [
        "###prediction using XGB on the test Data\n",
        "boost_predict_test=model.predict(matrix_test)\n",
        "cm1 = confusion_matrix(test_labels,boost_predict_test)\n",
        "print(cm1)\n",
        "\n",
        "accuracy_test=f1_score(test_labels, boost_predict_test, average='micro') \n",
        "print(\"test accuracy\", accuracy_test)"
      ],
      "execution_count": null,
      "outputs": []
    },
    {
      "cell_type": "code",
      "metadata": {
        "id": "6SZu2c4mUl_o"
      },
      "source": [
        ""
      ],
      "execution_count": null,
      "outputs": []
    }
  ]
}