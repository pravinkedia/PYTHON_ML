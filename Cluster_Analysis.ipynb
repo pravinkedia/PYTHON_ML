{
  "nbformat": 4,
  "nbformat_minor": 0,
  "metadata": {
    "colab": {
      "name": "Cluster Analysis.ipynb",
      "provenance": [],
      "collapsed_sections": [],
      "include_colab_link": true
    },
    "kernelspec": {
      "name": "python3",
      "display_name": "Python 3"
    }
  },
  "cells": [
    {
      "cell_type": "markdown",
      "metadata": {
        "id": "view-in-github",
        "colab_type": "text"
      },
      "source": [
        "<a href=\"https://colab.research.google.com/github/pravinkedia/PYTHON_ML/blob/main/Cluster_Analysis.ipynb\" target=\"_parent\"><img src=\"https://colab.research.google.com/assets/colab-badge.svg\" alt=\"Open In Colab\"/></a>"
      ]
    },
    {
      "cell_type": "markdown",
      "metadata": {
        "id": "eqBmLlSmINlW"
      },
      "source": [
        "# Cluster Analysis \n",
        "\n",
        "[statinfer.com](https://statinfer.com/)"
      ]
    },
    {
      "cell_type": "code",
      "metadata": {
        "id": "N_cwTfNyIwta"
      },
      "source": [
        "import pandas as pd\n",
        "import numpy as np\n",
        "import math"
      ],
      "execution_count": null,
      "outputs": []
    },
    {
      "cell_type": "markdown",
      "metadata": {
        "id": "nnSXodjXItyv"
      },
      "source": [
        "# Distance Matrix"
      ]
    },
    {
      "cell_type": "code",
      "metadata": {
        "id": "HKmCZXfrII9-"
      },
      "source": [
        "#Demo: Calculation of distance\n",
        "Credit_Score_Expenses = pd.read_csv(\"https://raw.githubusercontent.com/venkatareddykonasani/Datasets/master/Credit_Score_Expenses/Credit_Score_Expenses.csv\")\n",
        "Credit_Score_Expenses.columns.values\n",
        "print(\"The Data Matrix \\n\")\n",
        "Credit_Score_Expenses"
      ],
      "execution_count": null,
      "outputs": []
    },
    {
      "cell_type": "code",
      "metadata": {
        "id": "kiGBqsmqJnwE"
      },
      "source": [
        "# Euclidean Distance Caculator\n",
        "def distance_matrix(data_frame):\n",
        "    import numpy as np\n",
        "    result_distance=np.zeros((data_frame.shape[0],data_frame.shape[0]))\n",
        "    for i in range(0 , data_frame.shape[0]):\n",
        "        for j in range(0 , data_frame.shape[0]):\n",
        "            result_distance[i,j]=round(math.sqrt(sum((data_frame.iloc[i] - data_frame.iloc[j])**2)),1)\n",
        "    result_distance_df=pd.DataFrame(result_distance)\n",
        "    print(result_distance_df)\n",
        "\n",
        "print(\"The Distance Matrix \\n\")\n",
        "distance_matrix(Credit_Score_Expenses)"
      ],
      "execution_count": null,
      "outputs": []
    },
    {
      "cell_type": "markdown",
      "metadata": {
        "id": "ozUB7HOdKFy0"
      },
      "source": [
        "# Clustering on Super market Data"
      ]
    },
    {
      "cell_type": "code",
      "metadata": {
        "id": "JwKTrWjeJr52"
      },
      "source": [
        "#Cluster Analysis\n",
        "sup_market = pd.read_csv(\"https://raw.githubusercontent.com/venkatareddykonasani/Datasets/master/Super%20Market%20Coupons/Super_market_Coupons.csv\")\n",
        "print(sup_market.shape)\n",
        "sup_market.head()\n"
      ],
      "execution_count": null,
      "outputs": []
    },
    {
      "cell_type": "markdown",
      "metadata": {
        "id": "-1-SzHjsKemi"
      },
      "source": [
        "## Model building"
      ]
    },
    {
      "cell_type": "code",
      "metadata": {
        "id": "Jn73fk7iKXpX"
      },
      "source": [
        "#Building Clusters here\n",
        "from sklearn.cluster import KMeans\n",
        "kmeans_model = KMeans(n_clusters=5,  random_state=333) # Mention the Number of clusters\n",
        "X=sup_market.drop([\"cust_id\"],axis=1) # Custid is not needed\n",
        "kmeans_result = kmeans_model.fit(X) #Model building"
      ],
      "execution_count": null,
      "outputs": []
    },
    {
      "cell_type": "code",
      "metadata": {
        "id": "mQBGKRbcKiAh"
      },
      "source": [
        "# Getting the cluster labels and attaching them to the original data\n",
        "labels = kmeans_result.predict(X)\n",
        "sup_market[\"Cluster_id\"]=labels\n",
        "sup_market.head()"
      ],
      "execution_count": null,
      "outputs": []
    },
    {
      "cell_type": "markdown",
      "metadata": {
        "id": "rEylJbS8Kx9C"
      },
      "source": [
        "# Output Inference"
      ]
    },
    {
      "cell_type": "code",
      "metadata": {
        "id": "1Mlt2yuhKpXl"
      },
      "source": [
        "#Final Results\n",
        "cluster_counts=sup_market.groupby(['Cluster_id']).count()\n",
        "pd.set_option('display.max_columns', None) #This option displays all the columns \n",
        "print(\"cluster_counts \\n\", cluster_counts)"
      ],
      "execution_count": null,
      "outputs": []
    },
    {
      "cell_type": "code",
      "metadata": {
        "id": "0lsl2r54K4Xg"
      },
      "source": [
        "pd.set_option('display.max_columns', None) #This option displays all the columns \n",
        "cluster_means=sup_market.groupby(['Cluster_id']).mean()\n",
        "print(\"cluster_means \\n\", cluster_means)"
      ],
      "execution_count": null,
      "outputs": []
    },
    {
      "cell_type": "code",
      "metadata": {
        "id": "Ec4CKCPlLAzA"
      },
      "source": [
        "#The Final Target population\n",
        "target_data=sup_market[(sup_market[\"Cluster_id\"]==1) | (sup_market[\"Cluster_id\"]==3)]\n",
        "print(target_data.shape)"
      ],
      "execution_count": null,
      "outputs": []
    }
  ]
}