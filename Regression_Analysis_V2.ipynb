{
  "nbformat": 4,
  "nbformat_minor": 0,
  "metadata": {
    "colab": {
      "name": "Regression_Analysis_V2.ipynb",
      "provenance": [],
      "collapsed_sections": [],
      "include_colab_link": true
    },
    "kernelspec": {
      "name": "python3",
      "display_name": "Python 3"
    }
  },
  "cells": [
    {
      "cell_type": "markdown",
      "metadata": {
        "id": "view-in-github",
        "colab_type": "text"
      },
      "source": [
        "<a href=\"https://colab.research.google.com/github/pravinkedia/PYTHON_ML/blob/main/Regression_Analysis_V2.ipynb\" target=\"_parent\"><img src=\"https://colab.research.google.com/assets/colab-badge.svg\" alt=\"Open In Colab\"/></a>"
      ]
    },
    {
      "cell_type": "code",
      "metadata": {
        "id": "a6xFwUTH-Jxw"
      },
      "source": [
        "import pandas as pd\n",
        "import numpy as np\n",
        "import matplotlib as matlab\n",
        "import statsmodels"
      ],
      "execution_count": null,
      "outputs": []
    },
    {
      "cell_type": "markdown",
      "metadata": {
        "id": "19Xrwq2g-OTp"
      },
      "source": [
        "# Correlation"
      ]
    },
    {
      "cell_type": "code",
      "metadata": {
        "id": "5w_nsSUA-Z3e"
      },
      "source": [
        "air = pd.read_csv(\"https://raw.githubusercontent.com/venkatareddykonasani/Datasets/master/AirPassengers/AirPassengers.csv\")\n",
        "air.info()"
      ],
      "execution_count": null,
      "outputs": []
    },
    {
      "cell_type": "code",
      "metadata": {
        "id": "BjVd057a-3px"
      },
      "source": [
        "#Find the correlation between number of passengers and promotional budget.\n",
        "np.corrcoef(air.Passengers,air.Promotion_Budget)"
      ],
      "execution_count": null,
      "outputs": []
    },
    {
      "cell_type": "markdown",
      "metadata": {
        "id": "ou0-Mlep--gt"
      },
      "source": [
        "# Regression "
      ]
    },
    {
      "cell_type": "code",
      "metadata": {
        "id": "PKQxiD_B-9Z9"
      },
      "source": [
        "import statsmodels.formula.api as sm\n",
        "model = sm.ols(formula='Passengers ~ Promotion_Budget', data=air)\n",
        "fitted1 = model.fit()\n",
        "print(fitted1.summary())"
      ],
      "execution_count": null,
      "outputs": []
    },
    {
      "cell_type": "code",
      "metadata": {
        "id": "eh3IX6k-_Ecm"
      },
      "source": [
        "#b0 ==> Intercept  ==> \n",
        "#b1 ===> coeff prmo budget ==>"
      ],
      "execution_count": null,
      "outputs": []
    },
    {
      "cell_type": "code",
      "metadata": {
        "id": "MPKb3Rjm9h1Y"
      },
      "source": [
        "# y = b0 +b1*x \n",
        "# Passengers = 1259.6058 + 0.0695 * (promo_budget)\n",
        "# promo_budget = 500,000 ==> Predict passengers ? \n",
        "\n",
        "1259.6058 + 0.0695 * (500000)"
      ],
      "execution_count": null,
      "outputs": []
    },
    {
      "cell_type": "markdown",
      "metadata": {
        "id": "Q4mqQjN9_T59"
      },
      "source": [
        "# R Squared"
      ]
    },
    {
      "cell_type": "code",
      "metadata": {
        "id": "GJl6yQJa_L4m"
      },
      "source": [
        "##Regression Model inter_metro_flight_ratio and passengers count\n",
        "#matlab.pyplot.scatter(air.Inter_metro_flight_ratio,air.Passengers)\n",
        "\n",
        "import statsmodels.formula.api as sm\n",
        "model = sm.ols(formula='Passengers ~ Inter_metro_flight_ratio', data=air)\n",
        "fitted2 = model.fit()\n",
        "print(fitted2.summary())"
      ],
      "execution_count": null,
      "outputs": []
    },
    {
      "cell_type": "markdown",
      "metadata": {
        "id": "nLqhPNeL_axO"
      },
      "source": [
        "# Multiple Regerssion Model "
      ]
    },
    {
      "cell_type": "code",
      "metadata": {
        "id": "-hpy_86N_Or8"
      },
      "source": [
        "model = sm.ols(formula='Passengers ~ Promotion_Budget+Service_Quality_Score+Inter_metro_flight_ratio', data=air)\n",
        "fitted = model.fit()\n",
        "print(fitted.summary())"
      ],
      "execution_count": null,
      "outputs": []
    },
    {
      "cell_type": "markdown",
      "metadata": {
        "id": "muIuylOi_kuM"
      },
      "source": [
        "# Individual variables impact"
      ]
    },
    {
      "cell_type": "code",
      "metadata": {
        "id": "HaFY86Hq_hfN"
      },
      "source": [
        "#Are there any predictor variables that are not impacting the dependent variable \n",
        "##Inter_metro_flight_ratio is dropped\n",
        "import statsmodels.formula.api as sm\n",
        "model = sm.ols(formula='Passengers ~ Promotion_Budget+Service_Quality_Score', data=air)\n",
        "fitted = model.fit()\n",
        "print(fitted.summary())"
      ],
      "execution_count": null,
      "outputs": []
    },
    {
      "cell_type": "code",
      "metadata": {
        "id": "KQOZhKte_tbj"
      },
      "source": [
        "import statsmodels.formula.api as sm\n",
        "model = sm.ols(formula='Passengers ~ Service_Quality_Score', data=air)\n",
        "fitted = model.fit()\n",
        "print(fitted.summary())"
      ],
      "execution_count": null,
      "outputs": []
    },
    {
      "cell_type": "markdown",
      "metadata": {
        "id": "p-vPsbPn_32F"
      },
      "source": [
        "# Adjusted R-Square"
      ]
    },
    {
      "cell_type": "code",
      "metadata": {
        "id": "ovSvLsfA_wib"
      },
      "source": [
        "adj_sample=pd.read_csv(\"https://raw.githubusercontent.com/venkatareddykonasani/Datasets/master/Adjusted%20RSquare/Adj_Sample.csv\")\n",
        "#Build a model to predict y using x1,x2 and x3. Note down R-Square and Adj R-Square values \n",
        "model = sm.ols(formula='Y ~ x1+x2+x3', data=adj_sample)\n",
        "fitted = model.fit()\n",
        "print(fitted.summary())\n",
        "#R-Squared "
      ],
      "execution_count": null,
      "outputs": []
    },
    {
      "cell_type": "code",
      "metadata": {
        "id": "e9yKv5qDADA9"
      },
      "source": [
        "#Model2\n",
        "model = sm.ols(formula='Y ~ x1+x2+x3+x4+x5+x6', data=adj_sample)\n",
        "fitted = model.fit()\n",
        "print(fitted.summary())"
      ],
      "execution_count": null,
      "outputs": []
    },
    {
      "cell_type": "code",
      "metadata": {
        "id": "yLxGHZnRAKl_"
      },
      "source": [
        "#Model3\n",
        "model = sm.ols(formula='Y ~ x1+x2+x3+x4+x5+x6+x7+x8', data=adj_sample)\n",
        "fitted = model.fit()\n",
        "print(fitted.summary())"
      ],
      "execution_count": null,
      "outputs": []
    },
    {
      "cell_type": "markdown",
      "metadata": {
        "id": "iYoq4GaiAPsA"
      },
      "source": [
        "# Multiple Regression- issues"
      ]
    },
    {
      "cell_type": "code",
      "metadata": {
        "id": "b5UlwdLCALD4"
      },
      "source": [
        "#Import Regional Sales data\n",
        "regional_sales=pd.read_csv(\"https://raw.githubusercontent.com/venkatareddykonasani/Datasets/master/Regional_Sales/Sales_by_Region.csv\")\n",
        "\n",
        "#Variable names\n",
        "regional_sales.columns"
      ],
      "execution_count": null,
      "outputs": []
    },
    {
      "cell_type": "code",
      "metadata": {
        "id": "hc6i_1q-AbUT"
      },
      "source": [
        "model1 = sm.ols(formula='Regional_Sales ~ Avg_Income+Avg_Expenses+Percent_Male+Percent_Female', data=regional_sales)\n",
        "fitted1 = model1.fit()\n",
        "print(fitted1.summary())"
      ],
      "execution_count": null,
      "outputs": []
    },
    {
      "cell_type": "markdown",
      "metadata": {
        "id": "Ipa7gOWJm_gY"
      },
      "source": [
        "Model After dropping Avg Income"
      ]
    },
    {
      "cell_type": "code",
      "metadata": {
        "id": "U-H9it5jApez"
      },
      "source": [
        "model1 = sm.ols(formula='Regional_Sales ~ Avg_Expenses+Percent_Male+Percent_Female', data=regional_sales)\n",
        "fitted1 = model1.fit()\n",
        "print(fitted1.summary())"
      ],
      "execution_count": null,
      "outputs": []
    },
    {
      "cell_type": "markdown",
      "metadata": {
        "id": "ROTfGpTNnJsR"
      },
      "source": [
        "## VIF"
      ]
    },
    {
      "cell_type": "code",
      "metadata": {
        "id": "ZTTfVYFYAzGH"
      },
      "source": [
        "#Code for VIF Calculation\n",
        "#Writing a function to calculate the VIF values\n",
        "\n",
        "def vif_cal(input_data):\n",
        "    x_vars = input_data\n",
        "    xvar_names=x_vars.columns\n",
        "    for i in range(0,xvar_names.shape[0]):\n",
        "        y=x_vars[xvar_names[i]] \n",
        "        x=x_vars[xvar_names.drop(xvar_names[i])]\n",
        "        rsq=sm.ols(formula=\"y~x\", data=x_vars).fit().rsquared  \n",
        "        vif=round(1/(1-rsq),2)\n",
        "        print (xvar_names[i], \" VIF = \" , vif)"
      ],
      "execution_count": null,
      "outputs": []
    },
    {
      "cell_type": "code",
      "metadata": {
        "id": "sOCQVbdbA6eL"
      },
      "source": [
        "#Calculating VIF values using that function\n",
        "X_Data=regional_sales.drop([\"Region_id\",\"Regional_Sales\"],axis=1)\n",
        "vif_cal(input_data=X_Data)"
      ],
      "execution_count": null,
      "outputs": []
    },
    {
      "cell_type": "code",
      "metadata": {
        "id": "zt6gIIZSA9Ra"
      },
      "source": [
        "vif_cal(input_data=X_Data.drop([\"Avg_Income\"], axis=1))"
      ],
      "execution_count": null,
      "outputs": []
    },
    {
      "cell_type": "code",
      "metadata": {
        "id": "g2oafXb4A_hN"
      },
      "source": [
        "vif_cal(input_data=X_Data.drop([\"Avg_Income\",\"Percent_Female\"], axis=1))"
      ],
      "execution_count": null,
      "outputs": []
    },
    {
      "cell_type": "code",
      "metadata": {
        "id": "P0suyPm5oIXA"
      },
      "source": [
        "model1 = sm.ols(formula='Regional_Sales ~ Avg_Expenses+Percent_Male', data=regional_sales)\n",
        "fitted1 = model1.fit()\n",
        "print(fitted1.summary())"
      ],
      "execution_count": null,
      "outputs": []
    },
    {
      "cell_type": "markdown",
      "metadata": {
        "id": "F4AMj-H2BDSu"
      },
      "source": [
        "# Multiple Regression model building steps"
      ]
    },
    {
      "cell_type": "code",
      "metadata": {
        "id": "Vn4vQfXuBA9J"
      },
      "source": [
        "Webpage_Product_Sales=pd.read_csv(\"https://raw.githubusercontent.com/venkatareddykonasani/Datasets/master/Webpage_Product_Sales/Webpage_Product_Sales.csv\")\n",
        "Webpage_Product_Sales.shape\n",
        "Webpage_Product_Sales.columns"
      ],
      "execution_count": null,
      "outputs": []
    },
    {
      "cell_type": "code",
      "metadata": {
        "id": "PkD4fxW4BOgB"
      },
      "source": [
        "model1 = sm.ols(formula='Sales ~ Web_UI_Score+Server_Down_time_Sec+Holiday+Special_Discount+Clicks_From_Serach_Engine+Online_Ad_Paid_ref_links+Social_Network_Ref_links+Month+Weekday+DayofMonth', data=Webpage_Product_Sales)\n",
        "fitted1 = model1.fit()\n",
        "print(fitted1.summary())"
      ],
      "execution_count": null,
      "outputs": []
    },
    {
      "cell_type": "code",
      "metadata": {
        "id": "4B4MbKtvhnqT"
      },
      "source": [
        "model1 = sm.ols(formula='Sales ~ Web_UI_Score+Server_Down_time_Sec+Holiday+Special_Discount+Online_Ad_Paid_ref_links+Social_Network_Ref_links+Month+Weekday+DayofMonth', data=Webpage_Product_Sales)\n",
        "fitted1 = model1.fit()\n",
        "print(fitted1.summary())"
      ],
      "execution_count": null,
      "outputs": []
    },
    {
      "cell_type": "code",
      "metadata": {
        "id": "R7UvipUiBTVh"
      },
      "source": [
        "#VIF\n",
        "vif_cal(Webpage_Product_Sales.drop(\"Clicks_From_Serach_Engine\", axis=1),\"Sales\")"
      ],
      "execution_count": null,
      "outputs": []
    },
    {
      "cell_type": "code",
      "metadata": {
        "id": "FOSR-tYzBVeb"
      },
      "source": [
        "model1 = sm.ols(formula='Sales ~ Web_UI_Score+Server_Down_time_Sec+Holiday+Special_Discount+Online_Ad_Paid_ref_links+Social_Network_Ref_links+Month+Weekday+DayofMonth', data=Webpage_Product_Sales)\n",
        "fitted1 = model1.fit()\n",
        "print(fitted1.summary())"
      ],
      "execution_count": null,
      "outputs": []
    }
  ]
}