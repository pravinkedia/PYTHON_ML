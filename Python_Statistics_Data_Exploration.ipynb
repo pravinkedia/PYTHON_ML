{
  "nbformat": 4,
  "nbformat_minor": 0,
  "metadata": {
    "colab": {
      "name": "Copy of Python_Statistics_Data_Exploration.ipynb",
      "provenance": [],
      "collapsed_sections": [],
      "include_colab_link": true
    },
    "kernelspec": {
      "name": "python3",
      "display_name": "Python 3"
    }
  },
  "cells": [
    {
      "cell_type": "markdown",
      "metadata": {
        "id": "view-in-github",
        "colab_type": "text"
      },
      "source": [
        "<a href=\"https://colab.research.google.com/github/pravinkedia/PYTHON_ML/blob/main/Python_Statistics_Data_Exploration.ipynb\" target=\"_parent\"><img src=\"https://colab.research.google.com/assets/colab-badge.svg\" alt=\"Open In Colab\"/></a>"
      ]
    },
    {
      "cell_type": "markdown",
      "metadata": {
        "id": "xlH9u29dqNUE"
      },
      "source": [
        "# Basic Commands"
      ]
    },
    {
      "cell_type": "code",
      "metadata": {
        "id": "83kPGuMZp_P6",
        "colab": {
          "base_uri": "https://localhost:8080/"
        },
        "outputId": "d03c78d3-aa8a-4b69-9375-2981b71cf5b3"
      },
      "source": [
        "571+95"
      ],
      "execution_count": 1,
      "outputs": [
        {
          "output_type": "execute_result",
          "data": {
            "text/plain": [
              "666"
            ]
          },
          "metadata": {
            "tags": []
          },
          "execution_count": 1
        }
      ]
    },
    {
      "cell_type": "markdown",
      "metadata": {
        "id": "7zlXJtyXqY2J"
      },
      "source": [
        "Write Your Basic Commands here"
      ]
    },
    {
      "cell_type": "code",
      "metadata": {
        "id": "7soJLeAbqTah"
      },
      "source": [
        ""
      ],
      "execution_count": null,
      "outputs": []
    },
    {
      "cell_type": "code",
      "metadata": {
        "id": "GAhdfjNFqWJe"
      },
      "source": [
        ""
      ],
      "execution_count": null,
      "outputs": []
    },
    {
      "cell_type": "markdown",
      "metadata": {
        "id": "b42I4cPdqauM"
      },
      "source": [
        "#Packages "
      ]
    },
    {
      "cell_type": "markdown",
      "metadata": {
        "id": "yn90US4tqi4x"
      },
      "source": [
        "## Numpy"
      ]
    },
    {
      "cell_type": "code",
      "metadata": {
        "id": "rroT0ICdqiFE"
      },
      "source": [
        "import numpy as np\n",
        "\n",
        "income = np.array([9000, 8500, 9800, 12000, 7900, 6700, 10000])"
      ],
      "execution_count": 2,
      "outputs": []
    },
    {
      "cell_type": "code",
      "metadata": {
        "id": "TKtBmptLqqbk",
        "colab": {
          "base_uri": "https://localhost:8080/"
        },
        "outputId": "3198eecf-f7a3-4f63-c077-76c4a023da51"
      },
      "source": [
        "print(income) "
      ],
      "execution_count": 3,
      "outputs": [
        {
          "output_type": "stream",
          "text": [
            "[ 9000  8500  9800 12000  7900  6700 10000]\n"
          ],
          "name": "stdout"
        }
      ]
    },
    {
      "cell_type": "code",
      "metadata": {
        "id": "2EUCa4GJqsjX",
        "colab": {
          "base_uri": "https://localhost:8080/"
        },
        "outputId": "835d3b5c-db1b-4de3-8c8d-74e79021759b"
      },
      "source": [
        "print(income[0])"
      ],
      "execution_count": 4,
      "outputs": [
        {
          "output_type": "stream",
          "text": [
            "9000\n"
          ],
          "name": "stdout"
        }
      ]
    },
    {
      "cell_type": "code",
      "metadata": {
        "id": "1ftyND37qtlj",
        "colab": {
          "base_uri": "https://localhost:8080/"
        },
        "outputId": "161fc3b0-3b45-4d87-87ac-0e0042a26a40"
      },
      "source": [
        "expenses=income*0.6525\n",
        "print(expenses)"
      ],
      "execution_count": 5,
      "outputs": [
        {
          "output_type": "stream",
          "text": [
            "[5872.5  5546.25 6394.5  7830.   5154.75 4371.75 6525.  ]\n"
          ],
          "name": "stdout"
        }
      ]
    },
    {
      "cell_type": "code",
      "metadata": {
        "id": "Ysma0wHkqucL",
        "colab": {
          "base_uri": "https://localhost:8080/"
        },
        "outputId": "6b8acd1e-2e6b-4431-c961-14e8e8bd438e"
      },
      "source": [
        "savings=income-expenses\n",
        "print(savings)"
      ],
      "execution_count": 6,
      "outputs": [
        {
          "output_type": "stream",
          "text": [
            "[3127.5  2953.75 3405.5  4170.   2745.25 2328.25 3475.  ]\n"
          ],
          "name": "stdout"
        }
      ]
    },
    {
      "cell_type": "markdown",
      "metadata": {
        "id": "lXYK1w40qyNJ"
      },
      "source": [
        "## Pandas"
      ]
    },
    {
      "cell_type": "code",
      "metadata": {
        "id": "e6ceqvg9quxr",
        "colab": {
          "base_uri": "https://localhost:8080/"
        },
        "outputId": "0f30d555-c157-4bae-daf6-b86f7881c540"
      },
      "source": [
        "import pandas as pd\n",
        "#bank= pd.read_csv('D:\\\\Google Drive\\\\Training\\\\0.Shared Folder - Do not Delete\\\\ML_Class_Files_3Days\\\\Day1\\\\1.Python_Statistics_data_exploration\\\\Datasets\\\\Bank Tele Marketing\\\\bank_market.csv')\n",
        "bank= pd.read_csv('https://raw.githubusercontent.com/venkatareddykonasani/Datasets/master/Bank%20Tele%20Marketing/bank_market.csv')\n",
        "print(bank)"
      ],
      "execution_count": 7,
      "outputs": [
        {
          "output_type": "stream",
          "text": [
            "       Cust_num  age           job   marital  ... pdays previous  poutcome    y\n",
            "0             1   58    management   married  ...    -1        0   unknown   no\n",
            "1             2   44    technician    single  ...    -1        0   unknown   no\n",
            "2             3   33  entrepreneur   married  ...    -1        0   unknown   no\n",
            "3             4   47   blue-collar   married  ...    -1        0   unknown   no\n",
            "4             5   33       unknown    single  ...    -1        0   unknown   no\n",
            "...         ...  ...           ...       ...  ...   ...      ...       ...  ...\n",
            "45206     45207   51    technician   married  ...    -1        0   unknown  yes\n",
            "45207     45208   71       retired  divorced  ...    -1        0   unknown  yes\n",
            "45208     45209   72       retired   married  ...   184        3   success  yes\n",
            "45209     45210   57   blue-collar   married  ...    -1        0   unknown   no\n",
            "45210     45211   37  entrepreneur   married  ...   188       11     other   no\n",
            "\n",
            "[45211 rows x 18 columns]\n"
          ],
          "name": "stdout"
        }
      ]
    },
    {
      "cell_type": "markdown",
      "metadata": {
        "id": "f_5Wp5JDrLXi"
      },
      "source": [
        "## Matplotlib"
      ]
    },
    {
      "cell_type": "code",
      "metadata": {
        "id": "a-BSwk_2rJEU",
        "colab": {
          "base_uri": "https://localhost:8080/"
        },
        "outputId": "72b57480-cf9b-4298-860a-92ac0aacc6bb"
      },
      "source": [
        "#This code generates 50 random numbers and stores in X\n",
        "X = np.random.rand(50) \n",
        "Y = np.random.rand(50)\n",
        "\n",
        "print(\"X Array \\n\" ,X )\n",
        "print(\"Y Array \\n\", Y)"
      ],
      "execution_count": 8,
      "outputs": [
        {
          "output_type": "stream",
          "text": [
            "X Array \n",
            " [1.91580592e-01 7.92841892e-01 2.83979292e-01 5.34154830e-01\n",
            " 7.08607794e-01 4.72293215e-01 1.11320999e-01 5.17289319e-01\n",
            " 8.90307271e-01 6.33527020e-02 5.26888395e-01 9.16036303e-02\n",
            " 7.23886004e-01 7.60167767e-01 9.24389836e-01 3.54961854e-01\n",
            " 9.86489939e-01 3.66788307e-02 6.14188564e-01 1.26188059e-01\n",
            " 2.57475709e-01 6.86523430e-01 1.88639322e-01 2.72346765e-01\n",
            " 5.52452428e-01 5.65052931e-01 2.92135372e-01 7.60363316e-01\n",
            " 9.63007917e-01 3.72393562e-01 4.11840105e-01 2.32006566e-01\n",
            " 3.20319449e-01 9.48392394e-01 7.87128637e-01 8.79470510e-01\n",
            " 1.89778813e-01 1.52806568e-01 8.12165154e-01 2.43446413e-01\n",
            " 2.13749988e-01 2.01498256e-01 1.87372162e-01 3.14232652e-01\n",
            " 2.76632645e-01 6.24859411e-01 5.00755080e-04 5.75050844e-01\n",
            " 2.24022697e-02 7.14543882e-02]\n",
            "Y Array \n",
            " [0.9515081  0.09870236 0.02308143 0.34985299 0.92521152 0.90681976\n",
            " 0.39954777 0.99971037 0.38474364 0.3251594  0.54305704 0.30073787\n",
            " 0.59060234 0.53378048 0.41481423 0.28709491 0.62222002 0.90781929\n",
            " 0.6846676  0.41544648 0.76875675 0.92670183 0.71367527 0.96545594\n",
            " 0.89377045 0.7119205  0.14087913 0.40392609 0.2867034  0.91879406\n",
            " 0.08112664 0.57230844 0.92124693 0.39331071 0.68662759 0.76780484\n",
            " 0.1833519  0.77200701 0.83578364 0.19287613 0.10213908 0.84458529\n",
            " 0.08885645 0.64241252 0.26723872 0.29225108 0.26132219 0.38908342\n",
            " 0.02338527 0.43842856]\n"
          ],
          "name": "stdout"
        }
      ]
    },
    {
      "cell_type": "code",
      "metadata": {
        "id": "bhEy9B1Er-VR",
        "colab": {
          "base_uri": "https://localhost:8080/",
          "height": 283
        },
        "outputId": "e865eb73-e9bb-4dc5-9025-e466eba52f89"
      },
      "source": [
        "import matplotlib as mp\n",
        "mp.pyplot.scatter(X,Y)"
      ],
      "execution_count": 9,
      "outputs": [
        {
          "output_type": "execute_result",
          "data": {
            "text/plain": [
              "<matplotlib.collections.PathCollection at 0x7fc0ec0b4f50>"
            ]
          },
          "metadata": {
            "tags": []
          },
          "execution_count": 9
        },
        {
          "output_type": "display_data",
          "data": {
            "image/png": "[encoded data removed]",
            "text/plain": [
              "<Figure size 432x288 with 1 Axes>"
            ]
          },
          "metadata": {
            "tags": [],
            "needs_background": "light"
          }
        }
      ]
    },
    {
      "cell_type": "markdown",
      "metadata": {
        "id": "i1mi0VKTsfeD"
      },
      "source": [
        "# More on Pandas "
      ]
    },
    {
      "cell_type": "code",
      "metadata": {
        "id": "aX3JZRFgsj3F",
        "colab": {
          "base_uri": "https://localhost:8080/"
        },
        "outputId": "6e505eae-90cb-434d-901e-2a089b6cd067"
      },
      "source": [
        "Sales = pd.read_csv(\"https://raw.githubusercontent.com/venkatareddykonasani/Datasets/master/Superstore%20Sales%20Data/Sales_by_country_v1.csv\")\n",
        "print(Sales)"
      ],
      "execution_count": 10,
      "outputs": [
        {
          "output_type": "stream",
          "text": [
            "     custId        custName  ... unitsSold    dateSold\n",
            "0     23262    Candice Levy  ...       117  2012-08-09\n",
            "1     23263    Xerxes Smith  ...        73  2012-07-06\n",
            "2     23264    Levi Douglas  ...       205  2012-08-18\n",
            "3     23265    Uriel Benton  ...        14  2012-08-05\n",
            "4     23266    Celeste Pugh  ...       170  2012-08-11\n",
            "..      ...             ...  ...       ...         ...\n",
            "993   24255       Ethan Day  ...       189  2011-01-09\n",
            "994   24256      Quail Knox  ...        43  2011-05-08\n",
            "995   24257  Noelle Sargent  ...        17  2011-02-04\n",
            "996   24258   Kuame Wallace  ...        80  2011-01-13\n",
            "997   24259   Lester Fisher  ...       138  2011-08-10\n",
            "\n",
            "[998 rows x 7 columns]\n"
          ],
          "name": "stdout"
        }
      ]
    },
    {
      "cell_type": "code",
      "metadata": {
        "id": "BYiYhYqJszAq",
        "colab": {
          "base_uri": "https://localhost:8080/"
        },
        "outputId": "d3b06939-b704-4032-dde5-444242eb3091"
      },
      "source": [
        "print(Sales.shape)"
      ],
      "execution_count": 11,
      "outputs": [
        {
          "output_type": "stream",
          "text": [
            "(998, 7)\n"
          ],
          "name": "stdout"
        }
      ]
    },
    {
      "cell_type": "code",
      "metadata": {
        "id": "v8qsgIT0tmbL",
        "colab": {
          "base_uri": "https://localhost:8080/"
        },
        "outputId": "38a7ab27-3350-4874-bbd9-9f1a172a49c3"
      },
      "source": [
        "print(Sales.info())"
      ],
      "execution_count": 12,
      "outputs": [
        {
          "output_type": "stream",
          "text": [
            "<class 'pandas.core.frame.DataFrame'>\n",
            "RangeIndex: 998 entries, 0 to 997\n",
            "Data columns (total 7 columns):\n",
            " #   Column        Non-Null Count  Dtype \n",
            "---  ------        --------------  ----- \n",
            " 0   custId        998 non-null    int64 \n",
            " 1   custName      998 non-null    object\n",
            " 2   custCountry   998 non-null    object\n",
            " 3   productSold   998 non-null    object\n",
            " 4   salesChannel  998 non-null    object\n",
            " 5   unitsSold     998 non-null    int64 \n",
            " 6   dateSold      998 non-null    object\n",
            "dtypes: int64(2), object(5)\n",
            "memory usage: 54.7+ KB\n",
            "None\n"
          ],
          "name": "stdout"
        }
      ]
    },
    {
      "cell_type": "code",
      "metadata": {
        "id": "iJBgqYUbtf5u",
        "colab": {
          "base_uri": "https://localhost:8080/"
        },
        "outputId": "324f3942-8f34-4803-cca1-a2bc05b350a1"
      },
      "source": [
        "print(Sales.head())"
      ],
      "execution_count": 13,
      "outputs": [
        {
          "output_type": "stream",
          "text": [
            "   custId      custName  ... unitsSold    dateSold\n",
            "0   23262  Candice Levy  ...       117  2012-08-09\n",
            "1   23263  Xerxes Smith  ...        73  2012-07-06\n",
            "2   23264  Levi Douglas  ...       205  2012-08-18\n",
            "3   23265  Uriel Benton  ...        14  2012-08-05\n",
            "4   23266  Celeste Pugh  ...       170  2012-08-11\n",
            "\n",
            "[5 rows x 7 columns]\n"
          ],
          "name": "stdout"
        }
      ]
    },
    {
      "cell_type": "code",
      "metadata": {
        "id": "hGtpb4PBtjUz",
        "colab": {
          "base_uri": "https://localhost:8080/"
        },
        "outputId": "aecb6c3c-de24-4b31-d95b-7af44517da75"
      },
      "source": [
        "print(Sales.tail())"
      ],
      "execution_count": 14,
      "outputs": [
        {
          "output_type": "stream",
          "text": [
            "     custId        custName  ... unitsSold    dateSold\n",
            "993   24255       Ethan Day  ...       189  2011-01-09\n",
            "994   24256      Quail Knox  ...        43  2011-05-08\n",
            "995   24257  Noelle Sargent  ...        17  2011-02-04\n",
            "996   24258   Kuame Wallace  ...        80  2011-01-13\n",
            "997   24259   Lester Fisher  ...       138  2011-08-10\n",
            "\n",
            "[5 rows x 7 columns]\n"
          ],
          "name": "stdout"
        }
      ]
    },
    {
      "cell_type": "markdown",
      "metadata": {
        "id": "R8OMqrqotzMp"
      },
      "source": [
        "# Descriptive statistics"
      ]
    },
    {
      "cell_type": "code",
      "metadata": {
        "id": "LuTlNbQutlLW"
      },
      "source": [
        "Income = pd.read_csv(r\"https://raw.githubusercontent.com/venkatareddykonasani/Datasets/master/Census%20Income%20Data/Income_data.csv\")\n",
        "Income.info()"
      ],
      "execution_count": null,
      "outputs": []
    },
    {
      "cell_type": "markdown",
      "metadata": {
        "id": "FMv-CvgmuIKk"
      },
      "source": [
        "## Mean calculation"
      ]
    },
    {
      "cell_type": "code",
      "metadata": {
        "id": "a0t-6SYTuAOi"
      },
      "source": [
        "gain_mean=Income[\"capital-gain\"].mean()\n",
        "print(gain_mean)"
      ],
      "execution_count": null,
      "outputs": []
    },
    {
      "cell_type": "markdown",
      "metadata": {
        "id": "DTI4EvUnuMbN"
      },
      "source": [
        "## Median calculation"
      ]
    },
    {
      "cell_type": "code",
      "metadata": {
        "id": "TcE3P3j7uKeM"
      },
      "source": [
        "gain_median=Income[\"capital-gain\"].median()\n",
        "print(gain_median)"
      ],
      "execution_count": null,
      "outputs": []
    },
    {
      "cell_type": "markdown",
      "metadata": {
        "id": "qX9Sws2cuVLw"
      },
      "source": [
        "## Variance and Standard Deviation"
      ]
    },
    {
      "cell_type": "code",
      "metadata": {
        "id": "Ziw524bruOdN"
      },
      "source": [
        "Online_Retail= pd.read_csv(r\"https://raw.githubusercontent.com/venkatareddykonasani/Datasets/master/Online%20Retail%20Sales%20Data/Online%20Retail.csv\", encoding = \"ISO-8859-1\")\n",
        "Online_Retail.info()"
      ],
      "execution_count": null,
      "outputs": []
    },
    {
      "cell_type": "code",
      "metadata": {
        "id": "MR-7hi3rv9KI"
      },
      "source": [
        "#var and sd UnitPrice\n",
        "var_UnitPrice=Online_Retail['UnitPrice'].var()\n",
        "print(\"Variance of UnitPrice\", var_UnitPrice)\n",
        "\n",
        "std_UnitPrice=Online_Retail['UnitPrice'].std()\n",
        "print(\"S.D of UnitPrice\", std_UnitPrice)"
      ],
      "execution_count": null,
      "outputs": []
    },
    {
      "cell_type": "code",
      "metadata": {
        "id": "FRaZ-PrDwYDI"
      },
      "source": [
        "#var and sd Quantity\n",
        "var_Quantity=Online_Retail['Quantity'].var()\n",
        "print(\"Variance of Quantity\", var_Quantity)\n",
        "\n",
        "std_Quantity=Online_Retail['Quantity'].std()\n",
        "print(\"S.D of Quantity\", std_Quantity)"
      ],
      "execution_count": null,
      "outputs": []
    },
    {
      "cell_type": "markdown",
      "metadata": {
        "id": "DVUY3-zwwmf0"
      },
      "source": [
        "# Percentiles"
      ]
    },
    {
      "cell_type": "code",
      "metadata": {
        "id": "-a7i3Ei5wlHj"
      },
      "source": [
        "Income['capital-gain'].quantile([0, 0.1, 0.2, 0.3, 0.4, 0.5, 0.6, 0.7, 0.8, 0.9, 1])"
      ],
      "execution_count": null,
      "outputs": []
    },
    {
      "cell_type": "code",
      "metadata": {
        "id": "_edQKgQexDoA"
      },
      "source": [
        ""
      ],
      "execution_count": null,
      "outputs": []
    },
    {
      "cell_type": "code",
      "metadata": {
        "id": "nHb-xB9aw_A8"
      },
      "source": [
        ""
      ],
      "execution_count": null,
      "outputs": []
    },
    {
      "cell_type": "markdown",
      "metadata": {
        "id": "3hvBahekxE_g"
      },
      "source": [
        "# Outlier detection"
      ]
    },
    {
      "cell_type": "code",
      "metadata": {
        "id": "buSY38H_xI3u"
      },
      "source": [
        "loans= pd.read_csv(r\"https://raw.githubusercontent.com/venkatareddykonasani/Datasets/master/Give%20me%20some%20Credit/cs-training.csv\")\n",
        "loans.info()"
      ],
      "execution_count": null,
      "outputs": []
    },
    {
      "cell_type": "code",
      "metadata": {
        "id": "FEknrk4Cx1Ag"
      },
      "source": [
        "loans['monthly_utilization'].quantile([0, 0.1, 0.2, 0.3, 0.4, 0.5, 0.6, 0.7, 0.8, 0.9, 1])"
      ],
      "execution_count": null,
      "outputs": []
    },
    {
      "cell_type": "code",
      "metadata": {
        "id": "oSB3KFm3x8cl"
      },
      "source": [
        ""
      ],
      "execution_count": null,
      "outputs": []
    },
    {
      "cell_type": "code",
      "metadata": {
        "id": "a5StYMOKx_M8"
      },
      "source": [
        ""
      ],
      "execution_count": null,
      "outputs": []
    },
    {
      "cell_type": "markdown",
      "metadata": {
        "id": "JFzXpoATx_ne"
      },
      "source": [
        "# Outlier Treatment "
      ]
    },
    {
      "cell_type": "code",
      "metadata": {
        "id": "3q-o2DxdyCAH"
      },
      "source": [
        "median_util=loans['monthly_utilization'].median()\n",
        "print(median_util)"
      ],
      "execution_count": null,
      "outputs": []
    },
    {
      "cell_type": "code",
      "metadata": {
        "id": "oB9zvqFsyEcq"
      },
      "source": [
        "loans['util_new']=loans['monthly_utilization']\n",
        "loans['util_new'][loans['util_new']>1]=median_util "
      ],
      "execution_count": null,
      "outputs": []
    },
    {
      "cell_type": "code",
      "metadata": {
        "id": "N3_MYdTvyK-k"
      },
      "source": [
        "loans['util_new'].quantile([0, 0.1, 0.2, 0.3, 0.4, 0.5, 0.6, 0.7, 0.8, 0.9, 1])"
      ],
      "execution_count": null,
      "outputs": []
    },
    {
      "cell_type": "code",
      "metadata": {
        "id": "bbZzin7vyOuM"
      },
      "source": [
        ""
      ],
      "execution_count": null,
      "outputs": []
    }
  ]
}