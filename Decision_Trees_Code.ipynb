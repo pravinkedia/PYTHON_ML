{
  "nbformat": 4,
  "nbformat_minor": 0,
  "metadata": {
    "colab": {
      "name": "Decision_Trees_Code.ipynb",
      "provenance": [],
      "collapsed_sections": [],
      "include_colab_link": true
    },
    "kernelspec": {
      "name": "python3",
      "display_name": "Python 3"
    }
  },
  "cells": [
    {
      "cell_type": "markdown",
      "metadata": {
        "id": "view-in-github",
        "colab_type": "text"
      },
      "source": [
        "<a href=\"https://colab.research.google.com/github/pravinkedia/PYTHON_ML/blob/main/Decision_Trees_Code.ipynb\" target=\"_parent\"><img src=\"https://colab.research.google.com/assets/colab-badge.svg\" alt=\"Open In Colab\"/></a>"
      ]
    },
    {
      "cell_type": "markdown",
      "metadata": {
        "id": "Lp1bLlMFfJBu"
      },
      "source": [
        "# Decision Trees\n",
        "\n",
        "[statinfer.com ](https://statinfer.com/)"
      ]
    },
    {
      "cell_type": "markdown",
      "metadata": {
        "id": "mp1RswHZfTAG"
      },
      "source": [
        "# Entropy"
      ]
    },
    {
      "cell_type": "code",
      "metadata": {
        "id": "wyeqTdgbfYRK"
      },
      "source": [
        "#p1=0.5 and p2=0.5 \n",
        "import math\n",
        "entropy=-0.5*math.log2(0.5) -0.5*math.log2(0.5)\n",
        "print(\"Entropy for 50%-50% case ==>\", entropy)"
      ],
      "execution_count": null,
      "outputs": []
    },
    {
      "cell_type": "code",
      "metadata": {
        "id": "3o8fAgAOf9J6"
      },
      "source": [
        "entropy=-0.0001*math.log2(0.0001) -0.9999*math.log2(0.9999)\n",
        "print(\"Entropy for 0%-100% case ==>\", entropy)"
      ],
      "execution_count": null,
      "outputs": []
    },
    {
      "cell_type": "code",
      "metadata": {
        "id": "sLuUsE8_gu_j"
      },
      "source": [
        "import math\n",
        "entropy=-0.45*math.log2(0.45) -0.55*math.log2(0.55)\n",
        "print(\"Entropy for 45%-55% case ==>\", entropy)\n",
        "\n",
        "entropy=-0.05*math.log2(0.05) -0.95*math.log2(0.95)\n",
        "print(\"Entropy for 5%-95% case ==>\", entropy)"
      ],
      "execution_count": null,
      "outputs": []
    },
    {
      "cell_type": "markdown",
      "metadata": {
        "id": "Ejk-aqHDgTgN"
      },
      "source": [
        "# Data Importing"
      ]
    },
    {
      "cell_type": "code",
      "metadata": {
        "id": "chkXqN2fgcx9"
      },
      "source": [
        "#Import Data\n",
        "import pandas as pd\n",
        "\n",
        "##Ecom_Cust_Survey = pd.read_csv('...',header = 0)\n",
        "Ecom_data = pd.read_csv(\"https://raw.githubusercontent.com/venkatareddykonasani/Datasets/master/Ecom_Cust_Relationship_Management/Ecom_Cust_Survey_v1.csv\")\n",
        "\n",
        "Ecom_data.info()"
      ],
      "execution_count": null,
      "outputs": []
    },
    {
      "cell_type": "code",
      "metadata": {
        "id": "oE-pLGnmiG0F"
      },
      "source": [
        "Ecom_data['Overall_Satisfaction'].value_counts()"
      ],
      "execution_count": null,
      "outputs": []
    },
    {
      "cell_type": "markdown",
      "metadata": {
        "id": "xf1DfubCiOmL"
      },
      "source": [
        "# Convert Non-numerical Data into numerical"
      ]
    },
    {
      "cell_type": "code",
      "metadata": {
        "id": "G37MYRZziL8a"
      },
      "source": [
        "Ecom_data['Customer_Type_num'] = Ecom_data['Customer_Type'].map({'Prime': 1, 'Non_Prime': 0}).astype(int)\n",
        "print(Ecom_data['Customer_Type'].value_counts())\n",
        "print(Ecom_data['Customer_Type_num'].value_counts())"
      ],
      "execution_count": null,
      "outputs": []
    },
    {
      "cell_type": "code",
      "metadata": {
        "id": "ehOZaYYeiw0t"
      },
      "source": [
        "Ecom_data['Overall_Satisfaction_num'] = Ecom_data['Overall_Satisfaction'].map( {'Dis Satisfied': 0, 'Satisfied': 1} ).astype(int).astype(int)\n",
        "print(Ecom_data['Overall_Satisfaction'].value_counts())\n",
        "print(Ecom_data['Overall_Satisfaction_num'].value_counts())"
      ],
      "execution_count": null,
      "outputs": []
    },
    {
      "cell_type": "code",
      "metadata": {
        "id": "kTM-tvA2jTRy"
      },
      "source": [
        "Ecom_data.columns"
      ],
      "execution_count": null,
      "outputs": []
    },
    {
      "cell_type": "markdown",
      "metadata": {
        "id": "6iRhU3CSjHny"
      },
      "source": [
        "# Decision Tree Model Building"
      ]
    },
    {
      "cell_type": "code",
      "metadata": {
        "id": "fvnIu7fdjF08"
      },
      "source": [
        "from sklearn import tree\n",
        "\n",
        "features= ['Region', 'Age', 'Order_Quantity',  'Customer_Type_num']\n",
        "print(\"Features\",features)\n",
        "\n",
        "X = Ecom_data[features]\n",
        "print(\"X shape\", X.shape)\n",
        "y = Ecom_data['Overall_Satisfaction']\n",
        "print(\"Y shape\", y.shape)"
      ],
      "execution_count": null,
      "outputs": []
    },
    {
      "cell_type": "code",
      "metadata": {
        "id": "qgM_F_mPjzLc"
      },
      "source": [
        "#Building Tree Model\n",
        "DTree = tree.DecisionTreeClassifier(max_depth=2)\n",
        "DTree.fit(X,y)\n",
        "\n",
        "##Plotting the trees \n",
        "import matplotlib.pyplot as plt\n",
        "from sklearn.tree import plot_tree, export_text\n",
        "plt.figure(figsize=(15,7))\n",
        "plot_tree(DTree, filled=True, \n",
        "                     rounded=True,\n",
        "                     impurity=False,\n",
        "                     feature_names = features)\n",
        "print( export_text(DTree, feature_names = features))"
      ],
      "execution_count": null,
      "outputs": []
    },
    {
      "cell_type": "markdown",
      "metadata": {
        "id": "Hl0rWet5klRf"
      },
      "source": [
        "# Tree Validation"
      ]
    },
    {
      "cell_type": "code",
      "metadata": {
        "id": "ZBJxkWGokQfF"
      },
      "source": [
        "##########Tree Validation\n",
        "#Tree Validation\n",
        "predict1 = DTree.predict(X)\n",
        "\n",
        "from sklearn.metrics import confusion_matrix ###for using confusion matrix###\n",
        "cm = confusion_matrix(y, predict1)\n",
        "print (cm)\n",
        "\n",
        "total = sum(sum(cm))\n",
        "#####from confusion matrix calculate accuracy\n",
        "accuracy = (cm[0,0]+cm[1,1])/total\n",
        "print(accuracy)"
      ],
      "execution_count": null,
      "outputs": []
    },
    {
      "cell_type": "markdown",
      "metadata": {
        "id": "Z4QyrRiak8Ib"
      },
      "source": [
        "# The problem of overfitting"
      ]
    },
    {
      "cell_type": "code",
      "metadata": {
        "id": "oUO4heVNk6fj"
      },
      "source": [
        "#Dataset: \"Buyers Profiles/Train_data.csv\"\n",
        "#Import both test and training data\n",
        "train = pd.read_csv(\"https://raw.githubusercontent.com/venkatareddykonasani/Datasets/master/Buyers%20Profiles/Train_data.csv\")\n",
        "test = pd.read_csv(\"https://raw.githubusercontent.com/venkatareddykonasani/Datasets/master/Buyers%20Profiles/Test_data.csv\")\n",
        "\n",
        "train['Gender'] = train['Gender'].map( {'Male': 1, 'Female': 0} ).astype(int)\n",
        "train['Bought'] = train['Bought'].map({'Yes':1, 'No':0}).astype(int)\n",
        "\n",
        "test['Gender'] = test['Gender'].map( {'Male': 1, 'Female': 0} ).astype(int)\n",
        "test['Bought'] = test['Bought'].map({'Yes':1, 'No':0}).astype(int)"
      ],
      "execution_count": null,
      "outputs": []
    },
    {
      "cell_type": "code",
      "metadata": {
        "id": "3Ji32sDklZXf"
      },
      "source": [
        "from sklearn import tree\n",
        "\n",
        "#Defining Features and lables\n",
        "features = list(train.columns[:2])\n",
        "\n",
        "X_train = train[features]\n",
        "y_train = train['Bought']\n",
        "\n",
        "#X_train\n",
        "\n",
        "X_test = test[features]\n",
        "y_test = test['Bought']"
      ],
      "execution_count": null,
      "outputs": []
    },
    {
      "cell_type": "code",
      "metadata": {
        "id": "yzhMDwHWllJn"
      },
      "source": [
        "#training Tree Model\n",
        "clf = tree.DecisionTreeClassifier()\n",
        "clf.fit(X_train,y_train)\n",
        "\n",
        "predict1 = clf.predict(X_train)\n",
        "predict2 = clf.predict(X_test)\n",
        "\n",
        "#On Train Data\n",
        "cm1 = confusion_matrix(y_train,predict1)\n",
        "total1 = sum(sum(cm1))\n",
        "accuracy1 = (cm1[0,0]+cm1[1,1])/total1\n",
        "print(\"Train Accuracy\", accuracy1)\n",
        "\n",
        "#On Test Data\n",
        "cm2 = confusion_matrix(y_test,predict2)\n",
        "total2 = sum(sum(cm2))\n",
        "accuracy2 = (cm2[0,0]+cm2[1,1])/total2\n",
        "print(\"Test Accuracy\", accuracy2)"
      ],
      "execution_count": null,
      "outputs": []
    },
    {
      "cell_type": "markdown",
      "metadata": {
        "id": "NdKqBtOemAXb"
      },
      "source": [
        "# Pruning"
      ]
    },
    {
      "cell_type": "code",
      "metadata": {
        "id": "WU1Th3JDlqW5"
      },
      "source": [
        "#training Tree Model\n",
        "clf = tree.DecisionTreeClassifier(max_leaf_nodes = 10)\n",
        "clf.fit(X_train,y_train)\n",
        "\n",
        "predict1 = clf.predict(X_train)\n",
        "predict2 = clf.predict(X_test)\n",
        "\n",
        "#On Train Data\n",
        "cm1 = confusion_matrix(y_train,predict1)\n",
        "total1 = sum(sum(cm1))\n",
        "accuracy1 = (cm1[0,0]+cm1[1,1])/total1\n",
        "print(\"Train Accuracy\", accuracy1)\n",
        "\n",
        "#On Test Data\n",
        "cm2 = confusion_matrix(y_test,predict2)\n",
        "total2 = sum(sum(cm2))\n",
        "accuracy2 = (cm2[0,0]+cm2[1,1])/total2\n",
        "print(\"Test Accuracy\", accuracy2)"
      ],
      "execution_count": null,
      "outputs": []
    },
    {
      "cell_type": "code",
      "metadata": {
        "id": "-hPkGlEEl5oW"
      },
      "source": [
        ""
      ],
      "execution_count": null,
      "outputs": []
    }
  ]
}