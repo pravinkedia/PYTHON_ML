{
  "nbformat": 4,
  "nbformat_minor": 0,
  "metadata": {
    "colab": {
      "name": "7.1Random_Forest.ipynb",
      "provenance": [],
      "collapsed_sections": [],
      "toc_visible": true,
      "include_colab_link": true
    },
    "kernelspec": {
      "name": "python3",
      "display_name": "Python 3"
    }
  },
  "cells": [
    {
      "cell_type": "markdown",
      "metadata": {
        "id": "view-in-github",
        "colab_type": "text"
      },
      "source": [
        "<a href=\"https://colab.research.google.com/github/pravinkedia/PYTHON_ML/blob/main/7_1Random_Forest.ipynb\" target=\"_parent\"><img src=\"https://colab.research.google.com/assets/colab-badge.svg\" alt=\"Open In Colab\"/></a>"
      ]
    },
    {
      "cell_type": "markdown",
      "metadata": {
        "id": "e8lnn3Y9aJmA"
      },
      "source": [
        "[statinfer.com](https://statinfer.com/)"
      ]
    },
    {
      "cell_type": "code",
      "metadata": {
        "id": "dj4bxa8oZzm3"
      },
      "source": [
        "import pandas as pd\n",
        "import sklearn as sk\n",
        "import numpy as np\n",
        "import scipy as sp\n",
        "from sklearn import tree\n",
        "from sklearn.metrics import confusion_matrix"
      ],
      "execution_count": null,
      "outputs": []
    },
    {
      "cell_type": "markdown",
      "metadata": {
        "id": "omM157oCbGcW"
      },
      "source": [
        "# Data Importing"
      ]
    },
    {
      "cell_type": "code",
      "metadata": {
        "id": "wJYigzwabIDz"
      },
      "source": [
        "#Importing dataset\n",
        "car_train=pd.read_csv(\"https://raw.githubusercontent.com/venkatareddykonasani/Datasets/master/Car_Accidents_IOT/train.csv\")\n",
        "car_test=pd.read_csv(\"https://raw.githubusercontent.com/venkatareddykonasani/Datasets/master/Car_Accidents_IOT/test.csv\")"
      ],
      "execution_count": null,
      "outputs": []
    },
    {
      "cell_type": "code",
      "metadata": {
        "id": "izR7T47Rbb6A"
      },
      "source": [
        "features=list(car_train.columns[1:])\n",
        "X_train=car_train[features]\n",
        "y_train=car_train['Fatal']"
      ],
      "execution_count": null,
      "outputs": []
    },
    {
      "cell_type": "markdown",
      "metadata": {
        "id": "4K_JxfP0dChn"
      },
      "source": [
        "# Decision Tree"
      ]
    },
    {
      "cell_type": "code",
      "metadata": {
        "id": "dJhItjF9bqvh"
      },
      "source": [
        "###buildng Decision tree on the training data ####\n",
        "clf = tree.DecisionTreeClassifier(max_depth=6)\n",
        "clf.fit(X_train,y_train)"
      ],
      "execution_count": null,
      "outputs": []
    },
    {
      "cell_type": "markdown",
      "metadata": {
        "id": "9Y8bpqLY-IvU"
      },
      "source": [
        "## Decision Tree Results"
      ]
    },
    {
      "cell_type": "code",
      "metadata": {
        "id": "YTjvP9WrbwXG"
      },
      "source": [
        "#####predicting on test data ####\n",
        "tree_predict_train=clf.predict(car_train[features])\n",
        "tree_predict=clf.predict(car_test[features])\n",
        "\n",
        "########Train Data Validation\n",
        "cm1 = confusion_matrix(car_train[['Fatal']],tree_predict_train)\n",
        "print(\"Confusion Matrix for Train data \\n\", cm1)\n",
        "total1=sum(sum(cm1))\n",
        "accuracy_tree=(cm1[0,0]+cm1[1,1])/total1\n",
        "print(\"Accuracy of Train data \\n\", accuracy_tree)\n",
        "\n",
        "########Test Data Validation\n",
        "cm1 = confusion_matrix(car_test[['Fatal']],tree_predict)\n",
        "print(\"Confusion Matrix for test data \\n\", cm1)\n",
        "total1=sum(sum(cm1))\n",
        "accuracy_tree=(cm1[0,0]+cm1[1,1])/total1\n",
        "print(\"Accuracy of test data \\n\", accuracy_tree)\n"
      ],
      "execution_count": null,
      "outputs": []
    },
    {
      "cell_type": "markdown",
      "metadata": {
        "id": "HdfoCDGMdEt9"
      },
      "source": [
        "# Random Forest"
      ]
    },
    {
      "cell_type": "code",
      "metadata": {
        "id": "ipF3dylWb5k4"
      },
      "source": [
        "from sklearn.ensemble import RandomForestClassifier\n",
        "forest=RandomForestClassifier(n_estimators=20, max_features=4, max_depth=6)\n",
        "# n_estimators - Trees - As high as possible\n",
        "# max_features - p - low ==>(sqrt(t))\n",
        "# max_depth - Slightly higher than single tree\n",
        "forest.fit(X_train,y_train)"
      ],
      "execution_count": null,
      "outputs": []
    },
    {
      "cell_type": "markdown",
      "metadata": {
        "id": "pbxslgSs-L6H"
      },
      "source": [
        "## Random Forest Results"
      ]
    },
    {
      "cell_type": "code",
      "metadata": {
        "id": "VW1_MXQTdOoY"
      },
      "source": [
        "#####predicting on test data ####\n",
        "Forest_predict_train=forest.predict(car_train[features])\n",
        "Forest_predict=forest.predict(car_test[features])\n",
        "\n",
        "########Train Data Validation\n",
        "cm1 = confusion_matrix(car_train[['Fatal']],Forest_predict_train)\n",
        "print(\"Confusion Matrix for Train data \\n\", cm1)\n",
        "total1=sum(sum(cm1))\n",
        "accuracy_tree=(cm1[0,0]+cm1[1,1])/total1\n",
        "print(\"Accuracy of Train data \\n\", accuracy_tree)\n",
        "\n",
        "########Test Data Validation\n",
        "cm1 = confusion_matrix(car_test[['Fatal']],Forest_predict)\n",
        "print(\"Confusion Matrix for test data \\n\", cm1)\n",
        "total1=sum(sum(cm1))\n",
        "accuracy_tree=(cm1[0,0]+cm1[1,1])/total1\n",
        "print(\"Accuracy of test data \\n\", accuracy_tree)\n"
      ],
      "execution_count": null,
      "outputs": []
    },
    {
      "cell_type": "code",
      "metadata": {
        "id": "OLom_xdgghOY"
      },
      "source": [
        ""
      ],
      "execution_count": null,
      "outputs": []
    }
  ]
}